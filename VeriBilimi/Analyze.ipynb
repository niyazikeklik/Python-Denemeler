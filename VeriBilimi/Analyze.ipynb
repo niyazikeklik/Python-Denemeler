{
 "cells": [
  {
   "cell_type": "code",
   "execution_count": 1,
   "id": "7d62f438",
   "metadata": {
    "_cell_guid": "b1076dfc-b9ad-4769-8c92-a6c4dae69d19",
    "_uuid": "8f2839f25d086af736a60e9eeb907d3b93b6e0e5",
    "execution": {
     "iopub.execute_input": "2022-03-01T21:45:37.713916Z",
     "iopub.status.busy": "2022-03-01T21:45:37.713030Z",
     "iopub.status.idle": "2022-03-01T21:45:38.781596Z",
     "shell.execute_reply": "2022-03-01T21:45:38.782143Z",
     "shell.execute_reply.started": "2022-03-01T20:52:09.747175Z"
    },
    "papermill": {
     "duration": 1.151787,
     "end_time": "2022-03-01T21:45:38.782523",
     "exception": false,
     "start_time": "2022-03-01T21:45:37.630736",
     "status": "completed"
    },
    "tags": []
   },
   "outputs": [],
   "source": [
    "import numpy as np \n",
    "import pandas as pd \n",
    "    \n",
    "import seaborn as sns\n",
    "import matplotlib.pyplot as plt\n",
    "import numpy as np\n",
    "import warnings\n",
    "warnings.filterwarnings('ignore')\n"
   ]
  },
  {
   "cell_type": "markdown",
   "id": "c045c9ef",
   "metadata": {},
   "source": [
    "<h3><center>VERİ SETİ</center></h3>\n",
    "\n",
    "Veri setine kaggle.com üzerinde <a href = \"https://www.kaggle.com/datasets/kukuroo3/used-car-price-dataset-competition-format\" >Bu link üzerinden</a> ulaşabilirsiniz.\n",
    "\n",
    "<p>Veri setimiz araç bilgilerini tutan ve hangi özellikteki araçların hangi fiyata satıldığını bize söyleyen bir \n",
    "veri kümesidir\n",
    "    <h5>Amacımız</h5>\n",
    "    Hangi özelliklerin fiyat üzerinde etkili olduğunu, markaların mil ve yakıt masrafı üzerindeki etkisi gibi sorular ile öncelikle bir analiz yapmak daha sonra da verdiğimiz araç özelliklerine göre bize bir tahmini satış fiyatı veren modeli eğitmektir.\n",
    "</p>\n",
    "\n",
    "Veri setimiz, ilişkisel 4 farklı tablodan oluşuyor. Biz bu tabloları birleştirdikten sonra tek bir veriseti oluşturacağız ve işlemlerimizi onun üzerinde yapacağız.\n",
    "\n",
    "\n",
    "<h3><center>Veri Setindeki Sütunlar</center></h3>\n",
    "<ul>\n",
    "<li>carID - Uniq değer olan bir sütun, analizlerde kullanmayacağız bu yüzden silinebilir.</li>\n",
    "<li>brand - araba marka bilgisini tutan sütun</li>\n",
    "<li>model - araba model bilgisini tutan sütun</li>\n",
    "<li>year - araba modelinin hangi yıla ait olduğunu tutan sütun</li>\n",
    "<li>transmission - araba vites bilgisini tutan sütun, kategoriktir. manuel, automatic- semi automatic</li>\n",
    "<li>mileage\t - aracın aldığı mil</li>\n",
    "<li>fuelType - yakıt tipi. kategoriktir. diesel, petrol, other ve electric olarak 4'e ayrılır.</li>\n",
    "<li>tax - Aracın vergi bilgisini tutan sütun.</li>\n",
    "<li>mpg - Aracın mil başına yaktığı yakıt miktarı, galon olarak.</li>\n",
    "<li>engineSize - motorun hacim bilgisi.</li>\n",
    "<li>price - aracın satın alınma fiyatı.</li>\n",
    "    </ul>"
   ]
  },
  {
   "cell_type": "markdown",
   "id": "78e6c14c",
   "metadata": {},
   "source": [
    "<h4>Veri Setinin Birleştirilmesi ve Hazırlanması</h4>\n",
    "\n",
    "carID üzerinden veri setinin birleştirilme işlemi ve null değer ve tiplerin kontrolü."
   ]
  },
  {
   "cell_type": "code",
   "execution_count": 2,
   "id": "862c72fa",
   "metadata": {
    "execution": {
     "iopub.execute_input": "2022-03-01T21:45:38.902342Z",
     "iopub.status.busy": "2022-03-01T21:45:38.901669Z",
     "iopub.status.idle": "2022-03-01T21:45:38.922588Z",
     "shell.execute_reply": "2022-03-01T21:45:38.923184Z",
     "shell.execute_reply.started": "2022-03-01T20:52:10.829807Z"
    },
    "papermill": {
     "duration": 0.084742,
     "end_time": "2022-03-01T21:45:38.923408",
     "exception": false,
     "start_time": "2022-03-01T21:45:38.838666",
     "status": "completed"
    },
    "tags": []
   },
   "outputs": [],
   "source": [
    "X_train = pd.read_csv('Datasets//X_train.csv', sep = ',')\n",
    "X_test = pd.read_csv('Datasets//X_test.csv', sep = ',')\n",
    "y_train = pd.read_csv('Datasets//y_train.csv', sep = ',')\n",
    "y_test= pd.read_csv('Datasets//y_test.csv', sep = ',')"
   ]
  },
  {
   "cell_type": "code",
   "execution_count": 6,
   "id": "07d5da17",
   "metadata": {},
   "outputs": [
    {
     "data": {
      "text/html": [
       "<div>\n",
       "<style scoped>\n",
       "    .dataframe tbody tr th:only-of-type {\n",
       "        vertical-align: middle;\n",
       "    }\n",
       "\n",
       "    .dataframe tbody tr th {\n",
       "        vertical-align: top;\n",
       "    }\n",
       "\n",
       "    .dataframe thead th {\n",
       "        text-align: right;\n",
       "    }\n",
       "</style>\n",
       "<table border=\"1\" class=\"dataframe\">\n",
       "  <thead>\n",
       "    <tr style=\"text-align: right;\">\n",
       "      <th></th>\n",
       "      <th>carID</th>\n",
       "      <th>brand</th>\n",
       "      <th>model</th>\n",
       "      <th>year</th>\n",
       "      <th>transmission</th>\n",
       "      <th>mileage</th>\n",
       "      <th>fuelType</th>\n",
       "      <th>tax</th>\n",
       "      <th>mpg</th>\n",
       "      <th>engineSize</th>\n",
       "    </tr>\n",
       "  </thead>\n",
       "  <tbody>\n",
       "    <tr>\n",
       "      <th>0</th>\n",
       "      <td>13207</td>\n",
       "      <td>hyundi</td>\n",
       "      <td>Santa Fe</td>\n",
       "      <td>2019</td>\n",
       "      <td>Semi-Auto</td>\n",
       "      <td>4223</td>\n",
       "      <td>Diesel</td>\n",
       "      <td>145.0</td>\n",
       "      <td>39.8</td>\n",
       "      <td>2.2</td>\n",
       "    </tr>\n",
       "    <tr>\n",
       "      <th>1</th>\n",
       "      <td>17314</td>\n",
       "      <td>vauxhall</td>\n",
       "      <td>GTC</td>\n",
       "      <td>2015</td>\n",
       "      <td>Manual</td>\n",
       "      <td>47870</td>\n",
       "      <td>Diesel</td>\n",
       "      <td>125.0</td>\n",
       "      <td>60.1</td>\n",
       "      <td>2.0</td>\n",
       "    </tr>\n",
       "    <tr>\n",
       "      <th>2</th>\n",
       "      <td>12342</td>\n",
       "      <td>audi</td>\n",
       "      <td>RS4</td>\n",
       "      <td>2019</td>\n",
       "      <td>Automatic</td>\n",
       "      <td>5151</td>\n",
       "      <td>Petrol</td>\n",
       "      <td>145.0</td>\n",
       "      <td>29.1</td>\n",
       "      <td>2.9</td>\n",
       "    </tr>\n",
       "    <tr>\n",
       "      <th>3</th>\n",
       "      <td>13426</td>\n",
       "      <td>vw</td>\n",
       "      <td>Scirocco</td>\n",
       "      <td>2016</td>\n",
       "      <td>Automatic</td>\n",
       "      <td>20423</td>\n",
       "      <td>Diesel</td>\n",
       "      <td>30.0</td>\n",
       "      <td>57.6</td>\n",
       "      <td>2.0</td>\n",
       "    </tr>\n",
       "    <tr>\n",
       "      <th>4</th>\n",
       "      <td>16004</td>\n",
       "      <td>skoda</td>\n",
       "      <td>Scala</td>\n",
       "      <td>2020</td>\n",
       "      <td>Semi-Auto</td>\n",
       "      <td>3569</td>\n",
       "      <td>Petrol</td>\n",
       "      <td>145.0</td>\n",
       "      <td>47.1</td>\n",
       "      <td>1.0</td>\n",
       "    </tr>\n",
       "  </tbody>\n",
       "</table>\n",
       "</div>"
      ],
      "text/plain": [
       "   carID     brand      model  year transmission  mileage fuelType    tax  \\\n",
       "0  13207    hyundi   Santa Fe  2019    Semi-Auto     4223   Diesel  145.0   \n",
       "1  17314  vauxhall        GTC  2015       Manual    47870   Diesel  125.0   \n",
       "2  12342      audi        RS4  2019    Automatic     5151   Petrol  145.0   \n",
       "3  13426        vw   Scirocco  2016    Automatic    20423   Diesel   30.0   \n",
       "4  16004     skoda      Scala  2020    Semi-Auto     3569   Petrol  145.0   \n",
       "\n",
       "    mpg  engineSize  \n",
       "0  39.8         2.2  \n",
       "1  60.1         2.0  \n",
       "2  29.1         2.9  \n",
       "3  57.6         2.0  \n",
       "4  47.1         1.0  "
      ]
     },
     "execution_count": 6,
     "metadata": {},
     "output_type": "execute_result"
    }
   ],
   "source": [
    "X_train.head()"
   ]
  },
  {
   "cell_type": "code",
   "execution_count": 7,
   "id": "e5f41253",
   "metadata": {},
   "outputs": [
    {
     "data": {
      "text/html": [
       "<div>\n",
       "<style scoped>\n",
       "    .dataframe tbody tr th:only-of-type {\n",
       "        vertical-align: middle;\n",
       "    }\n",
       "\n",
       "    .dataframe tbody tr th {\n",
       "        vertical-align: top;\n",
       "    }\n",
       "\n",
       "    .dataframe thead th {\n",
       "        text-align: right;\n",
       "    }\n",
       "</style>\n",
       "<table border=\"1\" class=\"dataframe\">\n",
       "  <thead>\n",
       "    <tr style=\"text-align: right;\">\n",
       "      <th></th>\n",
       "      <th>carID</th>\n",
       "      <th>brand</th>\n",
       "      <th>model</th>\n",
       "      <th>year</th>\n",
       "      <th>transmission</th>\n",
       "      <th>mileage</th>\n",
       "      <th>fuelType</th>\n",
       "      <th>tax</th>\n",
       "      <th>mpg</th>\n",
       "      <th>engineSize</th>\n",
       "    </tr>\n",
       "  </thead>\n",
       "  <tbody>\n",
       "    <tr>\n",
       "      <th>0</th>\n",
       "      <td>12000</td>\n",
       "      <td>merc</td>\n",
       "      <td>GLS Class</td>\n",
       "      <td>2017</td>\n",
       "      <td>Automatic</td>\n",
       "      <td>12046</td>\n",
       "      <td>Diesel</td>\n",
       "      <td>150.0</td>\n",
       "      <td>37.2</td>\n",
       "      <td>3.0</td>\n",
       "    </tr>\n",
       "    <tr>\n",
       "      <th>1</th>\n",
       "      <td>12001</td>\n",
       "      <td>vw</td>\n",
       "      <td>Amarok</td>\n",
       "      <td>2017</td>\n",
       "      <td>Automatic</td>\n",
       "      <td>37683</td>\n",
       "      <td>Diesel</td>\n",
       "      <td>260.0</td>\n",
       "      <td>36.2</td>\n",
       "      <td>3.0</td>\n",
       "    </tr>\n",
       "    <tr>\n",
       "      <th>2</th>\n",
       "      <td>12004</td>\n",
       "      <td>merc</td>\n",
       "      <td>GLS Class</td>\n",
       "      <td>2019</td>\n",
       "      <td>Automatic</td>\n",
       "      <td>10000</td>\n",
       "      <td>Diesel</td>\n",
       "      <td>145.0</td>\n",
       "      <td>34.0</td>\n",
       "      <td>3.0</td>\n",
       "    </tr>\n",
       "    <tr>\n",
       "      <th>3</th>\n",
       "      <td>12013</td>\n",
       "      <td>skoda</td>\n",
       "      <td>Scala</td>\n",
       "      <td>2019</td>\n",
       "      <td>Manual</td>\n",
       "      <td>3257</td>\n",
       "      <td>Petrol</td>\n",
       "      <td>145.0</td>\n",
       "      <td>49.6</td>\n",
       "      <td>1.0</td>\n",
       "    </tr>\n",
       "    <tr>\n",
       "      <th>4</th>\n",
       "      <td>12017</td>\n",
       "      <td>audi</td>\n",
       "      <td>RS6</td>\n",
       "      <td>2015</td>\n",
       "      <td>Semi-Auto</td>\n",
       "      <td>20982</td>\n",
       "      <td>Petrol</td>\n",
       "      <td>325.0</td>\n",
       "      <td>29.4</td>\n",
       "      <td>4.0</td>\n",
       "    </tr>\n",
       "  </tbody>\n",
       "</table>\n",
       "</div>"
      ],
      "text/plain": [
       "   carID  brand       model  year transmission  mileage fuelType    tax   mpg  \\\n",
       "0  12000   merc   GLS Class  2017    Automatic    12046   Diesel  150.0  37.2   \n",
       "1  12001     vw      Amarok  2017    Automatic    37683   Diesel  260.0  36.2   \n",
       "2  12004   merc   GLS Class  2019    Automatic    10000   Diesel  145.0  34.0   \n",
       "3  12013  skoda       Scala  2019       Manual     3257   Petrol  145.0  49.6   \n",
       "4  12017   audi         RS6  2015    Semi-Auto    20982   Petrol  325.0  29.4   \n",
       "\n",
       "   engineSize  \n",
       "0         3.0  \n",
       "1         3.0  \n",
       "2         3.0  \n",
       "3         1.0  \n",
       "4         4.0  "
      ]
     },
     "execution_count": 7,
     "metadata": {},
     "output_type": "execute_result"
    }
   ],
   "source": [
    "X_test.head()"
   ]
  },
  {
   "cell_type": "code",
   "execution_count": 8,
   "id": "92639644",
   "metadata": {},
   "outputs": [
    {
     "data": {
      "text/html": [
       "<div>\n",
       "<style scoped>\n",
       "    .dataframe tbody tr th:only-of-type {\n",
       "        vertical-align: middle;\n",
       "    }\n",
       "\n",
       "    .dataframe tbody tr th {\n",
       "        vertical-align: top;\n",
       "    }\n",
       "\n",
       "    .dataframe thead th {\n",
       "        text-align: right;\n",
       "    }\n",
       "</style>\n",
       "<table border=\"1\" class=\"dataframe\">\n",
       "  <thead>\n",
       "    <tr style=\"text-align: right;\">\n",
       "      <th></th>\n",
       "      <th>carID</th>\n",
       "      <th>price</th>\n",
       "    </tr>\n",
       "  </thead>\n",
       "  <tbody>\n",
       "    <tr>\n",
       "      <th>0</th>\n",
       "      <td>13207</td>\n",
       "      <td>31995</td>\n",
       "    </tr>\n",
       "    <tr>\n",
       "      <th>1</th>\n",
       "      <td>17314</td>\n",
       "      <td>7700</td>\n",
       "    </tr>\n",
       "    <tr>\n",
       "      <th>2</th>\n",
       "      <td>12342</td>\n",
       "      <td>58990</td>\n",
       "    </tr>\n",
       "    <tr>\n",
       "      <th>3</th>\n",
       "      <td>13426</td>\n",
       "      <td>12999</td>\n",
       "    </tr>\n",
       "    <tr>\n",
       "      <th>4</th>\n",
       "      <td>16004</td>\n",
       "      <td>16990</td>\n",
       "    </tr>\n",
       "  </tbody>\n",
       "</table>\n",
       "</div>"
      ],
      "text/plain": [
       "   carID  price\n",
       "0  13207  31995\n",
       "1  17314   7700\n",
       "2  12342  58990\n",
       "3  13426  12999\n",
       "4  16004  16990"
      ]
     },
     "execution_count": 8,
     "metadata": {},
     "output_type": "execute_result"
    }
   ],
   "source": [
    "y_train.head()"
   ]
  },
  {
   "cell_type": "code",
   "execution_count": 10,
   "id": "fb848db0",
   "metadata": {},
   "outputs": [
    {
     "data": {
      "text/html": [
       "<div>\n",
       "<style scoped>\n",
       "    .dataframe tbody tr th:only-of-type {\n",
       "        vertical-align: middle;\n",
       "    }\n",
       "\n",
       "    .dataframe tbody tr th {\n",
       "        vertical-align: top;\n",
       "    }\n",
       "\n",
       "    .dataframe thead th {\n",
       "        text-align: right;\n",
       "    }\n",
       "</style>\n",
       "<table border=\"1\" class=\"dataframe\">\n",
       "  <thead>\n",
       "    <tr style=\"text-align: right;\">\n",
       "      <th></th>\n",
       "      <th>carID</th>\n",
       "      <th>price</th>\n",
       "    </tr>\n",
       "  </thead>\n",
       "  <tbody>\n",
       "    <tr>\n",
       "      <th>0</th>\n",
       "      <td>12000</td>\n",
       "      <td>38000</td>\n",
       "    </tr>\n",
       "    <tr>\n",
       "      <th>1</th>\n",
       "      <td>12001</td>\n",
       "      <td>23495</td>\n",
       "    </tr>\n",
       "    <tr>\n",
       "      <th>2</th>\n",
       "      <td>12004</td>\n",
       "      <td>59999</td>\n",
       "    </tr>\n",
       "    <tr>\n",
       "      <th>3</th>\n",
       "      <td>12013</td>\n",
       "      <td>16713</td>\n",
       "    </tr>\n",
       "    <tr>\n",
       "      <th>4</th>\n",
       "      <td>12017</td>\n",
       "      <td>46000</td>\n",
       "    </tr>\n",
       "  </tbody>\n",
       "</table>\n",
       "</div>"
      ],
      "text/plain": [
       "   carID  price\n",
       "0  12000  38000\n",
       "1  12001  23495\n",
       "2  12004  59999\n",
       "3  12013  16713\n",
       "4  12017  46000"
      ]
     },
     "execution_count": 10,
     "metadata": {},
     "output_type": "execute_result"
    }
   ],
   "source": [
    "y_test.head()"
   ]
  },
  {
   "cell_type": "code",
   "execution_count": 3,
   "id": "4643f4cf",
   "metadata": {
    "execution": {
     "iopub.execute_input": "2022-03-01T21:45:39.043926Z",
     "iopub.status.busy": "2022-03-01T21:45:39.043155Z",
     "iopub.status.idle": "2022-03-01T21:45:39.058816Z",
     "shell.execute_reply": "2022-03-01T21:45:39.059332Z",
     "shell.execute_reply.started": "2022-03-01T20:52:10.847447Z"
    },
    "papermill": {
     "duration": 0.080464,
     "end_time": "2022-03-01T21:45:39.059530",
     "exception": false,
     "start_time": "2022-03-01T21:45:38.979066",
     "status": "completed"
    },
    "tags": []
   },
   "outputs": [
    {
     "data": {
      "text/html": [
       "<div>\n",
       "<style scoped>\n",
       "    .dataframe tbody tr th:only-of-type {\n",
       "        vertical-align: middle;\n",
       "    }\n",
       "\n",
       "    .dataframe tbody tr th {\n",
       "        vertical-align: top;\n",
       "    }\n",
       "\n",
       "    .dataframe thead th {\n",
       "        text-align: right;\n",
       "    }\n",
       "</style>\n",
       "<table border=\"1\" class=\"dataframe\">\n",
       "  <thead>\n",
       "    <tr style=\"text-align: right;\">\n",
       "      <th></th>\n",
       "      <th>carID</th>\n",
       "      <th>brand</th>\n",
       "      <th>model</th>\n",
       "      <th>year</th>\n",
       "      <th>transmission</th>\n",
       "      <th>mileage</th>\n",
       "      <th>fuelType</th>\n",
       "      <th>tax</th>\n",
       "      <th>mpg</th>\n",
       "      <th>engineSize</th>\n",
       "      <th>price</th>\n",
       "    </tr>\n",
       "  </thead>\n",
       "  <tbody>\n",
       "    <tr>\n",
       "      <th>0</th>\n",
       "      <td>13207</td>\n",
       "      <td>hyundi</td>\n",
       "      <td>Santa Fe</td>\n",
       "      <td>2019</td>\n",
       "      <td>Semi-Auto</td>\n",
       "      <td>4223</td>\n",
       "      <td>Diesel</td>\n",
       "      <td>145.0</td>\n",
       "      <td>39.8</td>\n",
       "      <td>2.2</td>\n",
       "      <td>31995</td>\n",
       "    </tr>\n",
       "    <tr>\n",
       "      <th>1</th>\n",
       "      <td>17314</td>\n",
       "      <td>vauxhall</td>\n",
       "      <td>GTC</td>\n",
       "      <td>2015</td>\n",
       "      <td>Manual</td>\n",
       "      <td>47870</td>\n",
       "      <td>Diesel</td>\n",
       "      <td>125.0</td>\n",
       "      <td>60.1</td>\n",
       "      <td>2.0</td>\n",
       "      <td>7700</td>\n",
       "    </tr>\n",
       "    <tr>\n",
       "      <th>2</th>\n",
       "      <td>12342</td>\n",
       "      <td>audi</td>\n",
       "      <td>RS4</td>\n",
       "      <td>2019</td>\n",
       "      <td>Automatic</td>\n",
       "      <td>5151</td>\n",
       "      <td>Petrol</td>\n",
       "      <td>145.0</td>\n",
       "      <td>29.1</td>\n",
       "      <td>2.9</td>\n",
       "      <td>58990</td>\n",
       "    </tr>\n",
       "    <tr>\n",
       "      <th>3</th>\n",
       "      <td>13426</td>\n",
       "      <td>vw</td>\n",
       "      <td>Scirocco</td>\n",
       "      <td>2016</td>\n",
       "      <td>Automatic</td>\n",
       "      <td>20423</td>\n",
       "      <td>Diesel</td>\n",
       "      <td>30.0</td>\n",
       "      <td>57.6</td>\n",
       "      <td>2.0</td>\n",
       "      <td>12999</td>\n",
       "    </tr>\n",
       "    <tr>\n",
       "      <th>4</th>\n",
       "      <td>16004</td>\n",
       "      <td>skoda</td>\n",
       "      <td>Scala</td>\n",
       "      <td>2020</td>\n",
       "      <td>Semi-Auto</td>\n",
       "      <td>3569</td>\n",
       "      <td>Petrol</td>\n",
       "      <td>145.0</td>\n",
       "      <td>47.1</td>\n",
       "      <td>1.0</td>\n",
       "      <td>16990</td>\n",
       "    </tr>\n",
       "  </tbody>\n",
       "</table>\n",
       "</div>"
      ],
      "text/plain": [
       "   carID     brand      model  year transmission  mileage fuelType    tax  \\\n",
       "0  13207    hyundi   Santa Fe  2019    Semi-Auto     4223   Diesel  145.0   \n",
       "1  17314  vauxhall        GTC  2015       Manual    47870   Diesel  125.0   \n",
       "2  12342      audi        RS4  2019    Automatic     5151   Petrol  145.0   \n",
       "3  13426        vw   Scirocco  2016    Automatic    20423   Diesel   30.0   \n",
       "4  16004     skoda      Scala  2020    Semi-Auto     3569   Petrol  145.0   \n",
       "\n",
       "    mpg  engineSize  price  \n",
       "0  39.8         2.2  31995  \n",
       "1  60.1         2.0   7700  \n",
       "2  29.1         2.9  58990  \n",
       "3  57.6         2.0  12999  \n",
       "4  47.1         1.0  16990  "
      ]
     },
     "execution_count": 3,
     "metadata": {},
     "output_type": "execute_result"
    }
   ],
   "source": [
    "train_full = X_train.merge(y_train , on = 'carID')\n",
    "test_full = X_test.merge(y_test, on = 'carID')\n",
    "full_data = pd.concat([train_full, test_full])\n",
    "full_data.head()"
   ]
  },
  {
   "cell_type": "code",
   "execution_count": 4,
   "id": "e1771dcb",
   "metadata": {
    "execution": {
     "iopub.execute_input": "2022-03-01T21:45:39.178701Z",
     "iopub.status.busy": "2022-03-01T21:45:39.176107Z",
     "iopub.status.idle": "2022-03-01T21:45:39.182056Z",
     "shell.execute_reply": "2022-03-01T21:45:39.182589Z",
     "shell.execute_reply.started": "2022-03-01T20:52:10.873511Z"
    },
    "papermill": {
     "duration": 0.067067,
     "end_time": "2022-03-01T21:45:39.182790",
     "exception": false,
     "start_time": "2022-03-01T21:45:39.115723",
     "status": "completed"
    },
    "tags": []
   },
   "outputs": [
    {
     "data": {
      "text/plain": [
       "carID           False\n",
       "brand           False\n",
       "model           False\n",
       "year            False\n",
       "transmission    False\n",
       "mileage         False\n",
       "fuelType        False\n",
       "tax             False\n",
       "mpg             False\n",
       "engineSize      False\n",
       "price           False\n",
       "dtype: bool"
      ]
     },
     "execution_count": 4,
     "metadata": {},
     "output_type": "execute_result"
    }
   ],
   "source": [
    "full_data.isnull().any()\n",
    "#null değerimiz yok."
   ]
  },
  {
   "cell_type": "code",
   "execution_count": 5,
   "id": "d94f5fee",
   "metadata": {
    "execution": {
     "iopub.execute_input": "2022-03-01T21:45:39.306495Z",
     "iopub.status.busy": "2022-03-01T21:45:39.305745Z",
     "iopub.status.idle": "2022-03-01T21:45:39.308800Z",
     "shell.execute_reply": "2022-03-01T21:45:39.309308Z",
     "shell.execute_reply.started": "2022-03-01T20:52:10.882701Z"
    },
    "papermill": {
     "duration": 0.068251,
     "end_time": "2022-03-01T21:45:39.309502",
     "exception": false,
     "start_time": "2022-03-01T21:45:39.241251",
     "status": "completed"
    },
    "tags": []
   },
   "outputs": [
    {
     "name": "stdout",
     "output_type": "stream",
     "text": [
      "<class 'pandas.core.frame.DataFrame'>\n",
      "Int64Index: 7632 entries, 0 to 2671\n",
      "Data columns (total 11 columns):\n",
      " #   Column        Non-Null Count  Dtype  \n",
      "---  ------        --------------  -----  \n",
      " 0   carID         7632 non-null   int64  \n",
      " 1   brand         7632 non-null   object \n",
      " 2   model         7632 non-null   object \n",
      " 3   year          7632 non-null   int64  \n",
      " 4   transmission  7632 non-null   object \n",
      " 5   mileage       7632 non-null   int64  \n",
      " 6   fuelType      7632 non-null   object \n",
      " 7   tax           7632 non-null   float64\n",
      " 8   mpg           7632 non-null   float64\n",
      " 9   engineSize    7632 non-null   float64\n",
      " 10  price         7632 non-null   int64  \n",
      "dtypes: float64(3), int64(4), object(4)\n",
      "memory usage: 715.5+ KB\n"
     ]
    }
   ],
   "source": [
    "full_data.info()"
   ]
  },
  {
   "cell_type": "code",
   "execution_count": 6,
   "id": "a1c26939",
   "metadata": {
    "execution": {
     "iopub.execute_input": "2022-03-01T21:45:39.428863Z",
     "iopub.status.busy": "2022-03-01T21:45:39.427813Z",
     "iopub.status.idle": "2022-03-01T21:45:46.233426Z",
     "shell.execute_reply": "2022-03-01T21:45:46.233958Z",
     "shell.execute_reply.started": "2022-03-01T20:52:10.896559Z"
    },
    "papermill": {
     "duration": 6.869427,
     "end_time": "2022-03-01T21:45:46.234191",
     "exception": false,
     "start_time": "2022-03-01T21:45:39.364764",
     "status": "completed"
    },
    "scrolled": true,
    "tags": []
   },
   "outputs": [
    {
     "name": "stdout",
     "output_type": "stream",
     "text": [
      "<class 'pandas.core.frame.DataFrame'>\n",
      "Int64Index: 7632 entries, 0 to 2671\n",
      "Data columns (total 11 columns):\n",
      " #   Column        Non-Null Count  Dtype   \n",
      "---  ------        --------------  -----   \n",
      " 0   carID         7632 non-null   int64   \n",
      " 1   brand         7632 non-null   category\n",
      " 2   model         7632 non-null   category\n",
      " 3   year          7632 non-null   int64   \n",
      " 4   transmission  7632 non-null   category\n",
      " 5   mileage       7632 non-null   int64   \n",
      " 6   fuelType      7632 non-null   category\n",
      " 7   tax           7632 non-null   float64 \n",
      " 8   mpg           7632 non-null   float64 \n",
      " 9   engineSize    7632 non-null   float64 \n",
      " 10  price         7632 non-null   int64   \n",
      "dtypes: category(4), float64(3), int64(4)\n",
      "memory usage: 510.3 KB\n"
     ]
    }
   ],
   "source": [
    "#Sütun tiplerini değiştiriyoruz.\n",
    "full_data = full_data.astype({\"brand\":'category', \"model\":'category',\"transmission\":'category',\"fuelType\":'category'})\n",
    "full_data.info()"
   ]
  },
  {
   "cell_type": "markdown",
   "id": "e2558c7e",
   "metadata": {},
   "source": [
    "<h3><center>Veri Seti Üzerinde Analiz</center></h3>"
   ]
  },
  {
   "cell_type": "code",
   "execution_count": 7,
   "id": "bd14e68a",
   "metadata": {
    "execution": {
     "iopub.execute_input": "2022-03-01T21:45:46.388899Z",
     "iopub.status.busy": "2022-03-01T21:45:46.387907Z",
     "iopub.status.idle": "2022-03-01T21:45:46.672944Z",
     "shell.execute_reply": "2022-03-01T21:45:46.672224Z",
     "shell.execute_reply.started": "2022-03-01T20:52:16.852170Z"
    },
    "papermill": {
     "duration": 0.371902,
     "end_time": "2022-03-01T21:45:46.673124",
     "exception": false,
     "start_time": "2022-03-01T21:45:46.301222",
     "status": "completed"
    },
    "tags": []
   },
   "outputs": [
    {
     "data": {
      "text/plain": [
       "Text(0.5, 1.0, 'Markaların dağılımı')"
      ]
     },
     "execution_count": 7,
     "metadata": {},
     "output_type": "execute_result"
    },
    {
     "data": {
      "image/png": "[encoded data removed]",
      "text/plain": [
       "<Figure size 432x288 with 1 Axes>"
      ]
     },
     "metadata": {
      "needs_background": "light"
     },
     "output_type": "display_data"
    }
   ],
   "source": [
    "full_data[\"brand\"].value_counts().plot.barh().set_title(\"Markaların dağılımı\")\n"
   ]
  },
  {
   "cell_type": "code",
   "execution_count": 8,
   "id": "04a3c651",
   "metadata": {},
   "outputs": [
    {
     "data": {
      "text/plain": [
       "<AxesSubplot:xlabel='year', ylabel='count'>"
      ]
     },
     "execution_count": 8,
     "metadata": {},
     "output_type": "execute_result"
    },
    {
     "data": {
      "image/png": "[encoded data removed]",
      "text/plain": [
       "<Figure size 864x648 with 1 Axes>"
      ]
     },
     "metadata": {
      "needs_background": "light"
     },
     "output_type": "display_data"
    }
   ],
   "source": [
    "figure1=plt.figure(1,figsize=(12,9))\n",
    "figure1.suptitle(\"Yıl dağılımı\")\n",
    "plt.subplot(211)\n",
    "sns.countplot(full_data[\"year\"],x=\"Year\")"
   ]
  },
  {
   "cell_type": "code",
   "execution_count": 9,
   "id": "a13c4eb0",
   "metadata": {},
   "outputs": [
    {
     "data": {
      "image/png": "[encoded data removed]",
      "text/plain": [
       "<Figure size 360x360 with 1 Axes>"
      ]
     },
     "metadata": {
      "needs_background": "light"
     },
     "output_type": "display_data"
    }
   ],
   "source": [
    "df = full_data\n",
    "sns.catplot(x = \"brand\", y = \"price\", data = df);"
   ]
  },
  {
   "cell_type": "markdown",
   "id": "6213c57e",
   "metadata": {},
   "source": [
    "En pahalı araçların audi ve mercedes olduğunu görüyoruz. \n",
    "Bunun yanında skoda ve auxhall marka araçların ucuz olduklarını görüyoruz."
   ]
  },
  {
   "cell_type": "code",
   "execution_count": 10,
   "id": "5ab1f25c",
   "metadata": {},
   "outputs": [
    {
     "data": {
      "image/png": "[encoded data removed]",
      "text/plain": [
       "<Figure size 432x288 with 1 Axes>"
      ]
     },
     "metadata": {
      "needs_background": "light"
     },
     "output_type": "display_data"
    }
   ],
   "source": [
    "sns.barplot(x = \"transmission\", y = df.price, data= df);"
   ]
  },
  {
   "cell_type": "markdown",
   "id": "aed80dd8",
   "metadata": {},
   "source": [
    "Other kategorisi dışında standart sapmalar küçük. Bunun için aşağıdakiler rahatlıkla söylenebilir:\n",
    "\n",
    "Yarı otomatik araçların diğerlerinden daha pahalı ve manuel araçların ise diğerlerine göre daha ucuz.\n",
    "\n"
   ]
  },
  {
   "cell_type": "code",
   "execution_count": 11,
   "id": "18419e10",
   "metadata": {},
   "outputs": [
    {
     "data": {
      "image/png": "[encoded data removed]",
      "text/plain": [
       "<Figure size 360x360 with 1 Axes>"
      ]
     },
     "metadata": {
      "needs_background": "light"
     },
     "output_type": "display_data"
    }
   ],
   "source": [
    "sns.catplot(x = \"fuelType\", y = \"price\", data = df);"
   ]
  },
  {
   "cell_type": "markdown",
   "id": "8463e963",
   "metadata": {},
   "source": [
    "Bu tabloda en dikkat çeken elektrikli araçarın sayısı. Veri setimizde çok fazla elektrikli araç bulunmuyor.\n",
    "Bu 3 kayıt üzerinden bir şey söyleyecek olursak elektrikli araçların diğerlerine nazaran daha ucuz olduğu söylenebilir.\n",
    "\n",
    "Veri setimizde ağırlıklı olarak disel ve petrol kullanan araçlar olduğunu görüyoruz bunun yanında petrollü araçların daha pahalı olduğunu söyleyebiliriz."
   ]
  },
  {
   "cell_type": "code",
   "execution_count": 12,
   "id": "1e284694",
   "metadata": {},
   "outputs": [
    {
     "data": {
      "image/png": "[encoded data removed]",
      "text/plain": [
       "<Figure size 360x360 with 1 Axes>"
      ]
     },
     "metadata": {
      "needs_background": "light"
     },
     "output_type": "display_data"
    }
   ],
   "source": [
    "sns.catplot(x = \"brand\", y = \"mileage\", data = df);"
   ]
  },
  {
   "cell_type": "markdown",
   "id": "25236c43",
   "metadata": {},
   "source": [
    "Araç markası alınan kilometre üzerinde çok fazla etkili değil."
   ]
  },
  {
   "cell_type": "code",
   "execution_count": 13,
   "id": "8140b2cf",
   "metadata": {},
   "outputs": [
    {
     "data": {
      "image/png": "[encoded data removed]",
      "text/plain": [
       "<Figure size 432x288 with 1 Axes>"
      ]
     },
     "metadata": {
      "needs_background": "light"
     },
     "output_type": "display_data"
    }
   ],
   "source": [
    "sns.histplot(df.price);"
   ]
  },
  {
   "cell_type": "markdown",
   "id": "e542bb56",
   "metadata": {},
   "source": [
    "Veri setimizde lüks(pahalı) araç sayısı azınlıkta."
   ]
  },
  {
   "cell_type": "code",
   "execution_count": 14,
   "id": "acedf030",
   "metadata": {},
   "outputs": [
    {
     "data": {
      "text/plain": [
       "<AxesSubplot:xlabel='brand,fuelType'>"
      ]
     },
     "execution_count": 14,
     "metadata": {},
     "output_type": "execute_result"
    },
    {
     "data": {
      "image/png": "[encoded data removed]",
      "text/plain": [
       "<Figure size 432x288 with 1 Axes>"
      ]
     },
     "metadata": {
      "needs_background": "light"
     },
     "output_type": "display_data"
    }
   ],
   "source": [
    "df.groupby([\"brand\",\"fuelType\"])[\"price\"].mean().plot.bar(stacked=True, width=0.3)"
   ]
  },
  {
   "cell_type": "markdown",
   "id": "397b0f03",
   "metadata": {},
   "source": [
    "Elektrikli araçlar bmw markasına ait. BMW dışında elektrikli araç yok."
   ]
  },
  {
   "cell_type": "code",
   "execution_count": 15,
   "id": "f2d9615e",
   "metadata": {},
   "outputs": [
    {
     "data": {
      "text/plain": [
       "<AxesSubplot:xlabel='brand,transmission'>"
      ]
     },
     "execution_count": 15,
     "metadata": {},
     "output_type": "execute_result"
    },
    {
     "data": {
      "image/png": "[encoded data removed]",
      "text/plain": [
       "<Figure size 432x288 with 1 Axes>"
      ]
     },
     "metadata": {
      "needs_background": "light"
     },
     "output_type": "display_data"
    }
   ],
   "source": [
    "df.groupby([\"brand\",\"transmission\"])[\"price\"].mean().plot.bar(stacked=True, width=0.3)"
   ]
  },
  {
   "cell_type": "markdown",
   "id": "402e9d01",
   "metadata": {},
   "source": [
    "Other kategorisine ait araçlar sadece merc markasında bulunuyor. \n",
    "Diğer vites türleri tüm markalarda bulunuyor"
   ]
  },
  {
   "cell_type": "code",
   "execution_count": 16,
   "id": "2b0ca39e",
   "metadata": {},
   "outputs": [
    {
     "data": {
      "text/plain": [
       "<seaborn.axisgrid.FacetGrid at 0x1808a7ec910>"
      ]
     },
     "execution_count": 16,
     "metadata": {},
     "output_type": "execute_result"
    },
    {
     "data": {
      "image/png": "[encoded data removed]",
      "text/plain": [
       "<Figure size 433.125x360 with 1 Axes>"
      ]
     },
     "metadata": {
      "needs_background": "light"
     },
     "output_type": "display_data"
    }
   ],
   "source": [
    "sns.relplot(data=df, x=\"price\", y=\"mpg\", hue=\"fuelType\",kind=\"scatter\")\n"
   ]
  },
  {
   "cell_type": "markdown",
   "id": "d9526c2e",
   "metadata": {},
   "source": [
    "Hibrit ve elektrikli araçlar galon başına petrol ve Diesel araçlara göre daha fazla mil\n",
    "sağladığını net bir şekilde görebiliriz. \n",
    "\n",
    "Bunun yanında hibrit ve elektrikli araçlar daha ucuz."
   ]
  },
  {
   "cell_type": "code",
   "execution_count": 17,
   "id": "3bdb0d2c",
   "metadata": {},
   "outputs": [
    {
     "data": {
      "image/png": "[encoded data removed]",
      "text/plain": [
       "<Figure size 360x360 with 1 Axes>"
      ]
     },
     "metadata": {
      "needs_background": "light"
     },
     "output_type": "display_data"
    }
   ],
   "source": [
    "sns.lmplot(y = \"price\", x = \"engineSize\", data = df);"
   ]
  },
  {
   "cell_type": "markdown",
   "id": "e98f7a51",
   "metadata": {},
   "source": [
    "Görünüşe göre gerçekten daha küçük boyutlu motorlar, ağır motorlardan nispeten daha ortalamaya sahip ve daha az maliyetli. Daha ağır motor, daha fazla fiyat"
   ]
  },
  {
   "cell_type": "code",
   "execution_count": 18,
   "id": "8657ac75",
   "metadata": {},
   "outputs": [
    {
     "data": {
      "text/plain": [
       "<AxesSubplot:>"
      ]
     },
     "execution_count": 18,
     "metadata": {},
     "output_type": "execute_result"
    },
    {
     "data": {
      "image/png": "[encoded data removed]",
      "text/plain": [
       "<Figure size 504x504 with 2 Axes>"
      ]
     },
     "metadata": {
      "needs_background": "light"
     },
     "output_type": "display_data"
    }
   ],
   "source": [
    "figheat=plt.figure(4,figsize=(7,7))\n",
    "sns.heatmap(df.iloc[:,1:].corr(),annot=True)"
   ]
  },
  {
   "cell_type": "markdown",
   "id": "549ea8c9",
   "metadata": {},
   "source": [
    "Isı haritasına baktığımızda \n",
    "    Yıl arttıkça:\n",
    "        Fiyat artıyor.\n",
    "        Motor hacminde küçük de olsa doğrusal bir artış var. \n",
    "        Alınan mil düşüyor.\n",
    "        Yeni araçların vergisinin daha düşük olabileceği de söylenebilir.\n",
    "\n",
    "    Mil arttıkça:\n",
    "        Fiyat ve yıl düşüyor.\n",
    "        Küçük de olsa motor hacmi düşüyor, küçük motorlar daha fazla yol alıyor gibi gözüküyor ama çok küçük bir rakam, göz ardı edilebilir.\n",
    "        \n",
    "        Vergiyi arttıran özellikler:\n",
    "            Motor hacmi başta olmak üzere fiyat ve mil vergiyi yükseltiyor.\n",
    "        Vergiyi düşüren özellikler:\n",
    "            Yıl arttıkça vergi düşüyor. Yeni arabalar daha az vergi ödüyor.\n",
    "            Mil başına yakılan yakıt miktarı azaldıkça ödenilen vergi de azalıyor.\n",
    "            \n",
    "       \n",
    "       Mil başına yakılan yakıt miktarı arttıkça fiyat, motor hacmi ve vergi düşüyor.\n",
    "       Motor hacmi arttıkça yakılan yakıt azalıyor. Motor hacmi arttıkça fiyat da oldukça artıyor.\n",
    "            \n",
    "       Fiyatı vergi ve yıl da arttıran özellikler arasında. Son model araçlar daha pahalı.\n",
    "        \n",
    "        "
   ]
  },
  {
   "cell_type": "markdown",
   "id": "3cff0bde",
   "metadata": {},
   "source": [
    "<h3><center>Modelin Oluşturulması</center></h3>"
   ]
  },
  {
   "cell_type": "code",
   "execution_count": 20,
   "id": "9cd545a9",
   "metadata": {},
   "outputs": [
    {
     "data": {
      "text/plain": [
       "carID           0\n",
       "brand           0\n",
       "model           0\n",
       "year            0\n",
       "transmission    0\n",
       "mileage         0\n",
       "fuelType        0\n",
       "tax             0\n",
       "mpg             0\n",
       "engineSize      0\n",
       "dtype: int64"
      ]
     },
     "execution_count": 20,
     "metadata": {},
     "output_type": "execute_result"
    }
   ],
   "source": [
    "df.isna().sum()"
   ]
  },
  {
   "cell_type": "code",
   "execution_count": 21,
   "id": "db2129f4",
   "metadata": {},
   "outputs": [
    {
     "name": "stdout",
     "output_type": "stream",
     "text": [
      "tax : yes\n",
      "engineSize : yes\n"
     ]
    }
   ],
   "source": [
    "## girdi olarak herhangi bir sayısal sütunun 0 olup olmadığını kontrol etme\n",
    "l=[]\n",
    "for col in df.columns:\n",
    "    if df[col].dtype != 'O':\n",
    "             l.append(col)\n",
    "    pass\n",
    "\n",
    "for col in l:\n",
    "    if df[df[col]==0].value_counts().sum()>=1:\n",
    "        print(f'{col} : yes')"
   ]
  },
  {
   "cell_type": "code",
   "execution_count": 22,
   "id": "5441bc63",
   "metadata": {},
   "outputs": [
    {
     "name": "stdout",
     "output_type": "stream",
     "text": [
      "tax : yes\n",
      "engineSize : yes\n"
     ]
    }
   ],
   "source": [
    "## test verilerinde\n",
    "for col in l:\n",
    "    if X_test[X_test[col]==0].value_counts().sum()>=1:\n",
    "        print(f'{col} : yes')"
   ]
  },
  {
   "cell_type": "markdown",
   "id": "32119ba2",
   "metadata": {},
   "source": [
    "Hem tax ve engineSize sıfır olamaz bu yüzden bu kayıtlarda eksik değerler var."
   ]
  },
  {
   "cell_type": "code",
   "execution_count": 23,
   "id": "6fae0c17",
   "metadata": {},
   "outputs": [
    {
     "name": "stdout",
     "output_type": "stream",
     "text": [
      "tax : yes\n",
      "engineSize : yes\n"
     ]
    }
   ],
   "source": [
    "for col in l:\n",
    "    if X_test[X_test[col]==0].value_counts().sum()>=1:\n",
    "        print(f'{col} : yes')"
   ]
  },
  {
   "cell_type": "code",
   "execution_count": 24,
   "id": "79d7b453",
   "metadata": {},
   "outputs": [],
   "source": [
    "df['tax'].replace(0,df['tax'].median(),inplace=True)\n",
    "df['engineSize'].replace(0,df['engineSize'].median(),inplace=True)"
   ]
  },
  {
   "cell_type": "code",
   "execution_count": 25,
   "id": "059d2bcb",
   "metadata": {},
   "outputs": [],
   "source": [
    "df['tax'].replace(0,df['tax'].median(),inplace=True)\n",
    "df['engineSize'].replace(0,df['engineSize'].median(),inplace=True)"
   ]
  },
  {
   "cell_type": "markdown",
   "id": "f7356df5",
   "metadata": {},
   "source": [
    "veri kümemizde boş değer yok"
   ]
  },
  {
   "cell_type": "code",
   "execution_count": 26,
   "id": "803cdb2b",
   "metadata": {},
   "outputs": [
    {
     "data": {
      "text/plain": [
       "brand\n",
       "audi                  A8\n",
       "bmw                   X4\n",
       "ford         Grand C-MAX\n",
       "hyundi          Santa Fe\n",
       "merc           CLS Class\n",
       "skoda              Scala\n",
       "toyota             Prius\n",
       "vauxhall      Combo Life\n",
       "vw                Arteon\n",
       "dtype: object"
      ]
     },
     "execution_count": 26,
     "metadata": {},
     "output_type": "execute_result"
    }
   ],
   "source": [
    "df.groupby('brand').apply(lambda x: x['model'].value_counts().index[0])"
   ]
  },
  {
   "cell_type": "code",
   "execution_count": 27,
   "id": "92195a09",
   "metadata": {},
   "outputs": [
    {
     "data": {
      "text/plain": [
       "carID        -0.010130\n",
       "year         -2.221587\n",
       "mileage       1.767751\n",
       "tax           1.938680\n",
       "mpg           9.608992\n",
       "engineSize    1.243563\n",
       "dtype: float64"
      ]
     },
     "execution_count": 27,
     "metadata": {},
     "output_type": "execute_result"
    }
   ],
   "source": [
    "# Çarpık verileri Normal dağılıma dönüştürme\n",
    "df.skew()"
   ]
  },
  {
   "cell_type": "code",
   "execution_count": 28,
   "id": "1b289f08",
   "metadata": {},
   "outputs": [],
   "source": [
    "#Carid uniq değer model'de işimize yaramayacak, siliyoruz.\n",
    "df.drop(labels=['carID','model'],axis=1,inplace=True)\n",
    "X_test.drop(labels=['carID','model'],axis=1,inplace=True)"
   ]
  },
  {
   "cell_type": "code",
   "execution_count": 29,
   "id": "a49dd7b5",
   "metadata": {},
   "outputs": [
    {
     "data": {
      "text/html": [
       "<div>\n",
       "<style scoped>\n",
       "    .dataframe tbody tr th:only-of-type {\n",
       "        vertical-align: middle;\n",
       "    }\n",
       "\n",
       "    .dataframe tbody tr th {\n",
       "        vertical-align: top;\n",
       "    }\n",
       "\n",
       "    .dataframe thead th {\n",
       "        text-align: right;\n",
       "    }\n",
       "</style>\n",
       "<table border=\"1\" class=\"dataframe\">\n",
       "  <thead>\n",
       "    <tr style=\"text-align: right;\">\n",
       "      <th></th>\n",
       "      <th>brand</th>\n",
       "      <th>year</th>\n",
       "      <th>transmission</th>\n",
       "      <th>mileage</th>\n",
       "      <th>fuelType</th>\n",
       "      <th>tax</th>\n",
       "      <th>mpg</th>\n",
       "      <th>engineSize</th>\n",
       "    </tr>\n",
       "  </thead>\n",
       "  <tbody>\n",
       "    <tr>\n",
       "      <th>0</th>\n",
       "      <td>hyundi</td>\n",
       "      <td>2019</td>\n",
       "      <td>Semi-Auto</td>\n",
       "      <td>4223</td>\n",
       "      <td>Diesel</td>\n",
       "      <td>145.0</td>\n",
       "      <td>39.8</td>\n",
       "      <td>2.2</td>\n",
       "    </tr>\n",
       "    <tr>\n",
       "      <th>1</th>\n",
       "      <td>vauxhall</td>\n",
       "      <td>2015</td>\n",
       "      <td>Manual</td>\n",
       "      <td>47870</td>\n",
       "      <td>Diesel</td>\n",
       "      <td>125.0</td>\n",
       "      <td>60.1</td>\n",
       "      <td>2.0</td>\n",
       "    </tr>\n",
       "    <tr>\n",
       "      <th>2</th>\n",
       "      <td>audi</td>\n",
       "      <td>2019</td>\n",
       "      <td>Automatic</td>\n",
       "      <td>5151</td>\n",
       "      <td>Petrol</td>\n",
       "      <td>145.0</td>\n",
       "      <td>29.1</td>\n",
       "      <td>2.9</td>\n",
       "    </tr>\n",
       "    <tr>\n",
       "      <th>3</th>\n",
       "      <td>vw</td>\n",
       "      <td>2016</td>\n",
       "      <td>Automatic</td>\n",
       "      <td>20423</td>\n",
       "      <td>Diesel</td>\n",
       "      <td>30.0</td>\n",
       "      <td>57.6</td>\n",
       "      <td>2.0</td>\n",
       "    </tr>\n",
       "    <tr>\n",
       "      <th>4</th>\n",
       "      <td>skoda</td>\n",
       "      <td>2020</td>\n",
       "      <td>Semi-Auto</td>\n",
       "      <td>3569</td>\n",
       "      <td>Petrol</td>\n",
       "      <td>145.0</td>\n",
       "      <td>47.1</td>\n",
       "      <td>1.0</td>\n",
       "    </tr>\n",
       "  </tbody>\n",
       "</table>\n",
       "</div>"
      ],
      "text/plain": [
       "      brand  year transmission  mileage fuelType    tax   mpg  engineSize\n",
       "0    hyundi  2019    Semi-Auto     4223   Diesel  145.0  39.8         2.2\n",
       "1  vauxhall  2015       Manual    47870   Diesel  125.0  60.1         2.0\n",
       "2      audi  2019    Automatic     5151   Petrol  145.0  29.1         2.9\n",
       "3        vw  2016    Automatic    20423   Diesel   30.0  57.6         2.0\n",
       "4     skoda  2020    Semi-Auto     3569   Petrol  145.0  47.1         1.0"
      ]
     },
     "execution_count": 29,
     "metadata": {},
     "output_type": "execute_result"
    }
   ],
   "source": [
    "df.head()"
   ]
  },
  {
   "cell_type": "code",
   "execution_count": 30,
   "id": "ae61761d",
   "metadata": {},
   "outputs": [],
   "source": [
    "^#Kategorik değişkenleri sayısal değişkenlere çevirme.\n",
    "df=pd.get_dummies(data=df,columns=['brand','transmission','fuelType'],drop_first=True)\n",
    "X_test=pd.get_dummies(data=X_test,columns=['brand','transmission','fuelType'],drop_first=True)"
   ]
  },
  {
   "cell_type": "code",
   "execution_count": 31,
   "id": "d1af9a1d",
   "metadata": {},
   "outputs": [
    {
     "data": {
      "text/html": [
       "<div>\n",
       "<style scoped>\n",
       "    .dataframe tbody tr th:only-of-type {\n",
       "        vertical-align: middle;\n",
       "    }\n",
       "\n",
       "    .dataframe tbody tr th {\n",
       "        vertical-align: top;\n",
       "    }\n",
       "\n",
       "    .dataframe thead th {\n",
       "        text-align: right;\n",
       "    }\n",
       "</style>\n",
       "<table border=\"1\" class=\"dataframe\">\n",
       "  <thead>\n",
       "    <tr style=\"text-align: right;\">\n",
       "      <th></th>\n",
       "      <th>year</th>\n",
       "      <th>mileage</th>\n",
       "      <th>tax</th>\n",
       "      <th>mpg</th>\n",
       "      <th>engineSize</th>\n",
       "      <th>brand_bmw</th>\n",
       "      <th>brand_ford</th>\n",
       "      <th>brand_hyundi</th>\n",
       "      <th>brand_merc</th>\n",
       "      <th>brand_skoda</th>\n",
       "      <th>brand_toyota</th>\n",
       "      <th>brand_vauxhall</th>\n",
       "      <th>brand_vw</th>\n",
       "      <th>transmission_Manual</th>\n",
       "      <th>transmission_Other</th>\n",
       "      <th>transmission_Semi-Auto</th>\n",
       "      <th>fuelType_Electric</th>\n",
       "      <th>fuelType_Hybrid</th>\n",
       "      <th>fuelType_Other</th>\n",
       "      <th>fuelType_Petrol</th>\n",
       "    </tr>\n",
       "  </thead>\n",
       "  <tbody>\n",
       "    <tr>\n",
       "      <th>0</th>\n",
       "      <td>2019</td>\n",
       "      <td>4223</td>\n",
       "      <td>145.0</td>\n",
       "      <td>39.8</td>\n",
       "      <td>2.2</td>\n",
       "      <td>0</td>\n",
       "      <td>0</td>\n",
       "      <td>1</td>\n",
       "      <td>0</td>\n",
       "      <td>0</td>\n",
       "      <td>0</td>\n",
       "      <td>0</td>\n",
       "      <td>0</td>\n",
       "      <td>0</td>\n",
       "      <td>0</td>\n",
       "      <td>1</td>\n",
       "      <td>0</td>\n",
       "      <td>0</td>\n",
       "      <td>0</td>\n",
       "      <td>0</td>\n",
       "    </tr>\n",
       "    <tr>\n",
       "      <th>1</th>\n",
       "      <td>2015</td>\n",
       "      <td>47870</td>\n",
       "      <td>125.0</td>\n",
       "      <td>60.1</td>\n",
       "      <td>2.0</td>\n",
       "      <td>0</td>\n",
       "      <td>0</td>\n",
       "      <td>0</td>\n",
       "      <td>0</td>\n",
       "      <td>0</td>\n",
       "      <td>0</td>\n",
       "      <td>1</td>\n",
       "      <td>0</td>\n",
       "      <td>1</td>\n",
       "      <td>0</td>\n",
       "      <td>0</td>\n",
       "      <td>0</td>\n",
       "      <td>0</td>\n",
       "      <td>0</td>\n",
       "      <td>0</td>\n",
       "    </tr>\n",
       "    <tr>\n",
       "      <th>2</th>\n",
       "      <td>2019</td>\n",
       "      <td>5151</td>\n",
       "      <td>145.0</td>\n",
       "      <td>29.1</td>\n",
       "      <td>2.9</td>\n",
       "      <td>0</td>\n",
       "      <td>0</td>\n",
       "      <td>0</td>\n",
       "      <td>0</td>\n",
       "      <td>0</td>\n",
       "      <td>0</td>\n",
       "      <td>0</td>\n",
       "      <td>0</td>\n",
       "      <td>0</td>\n",
       "      <td>0</td>\n",
       "      <td>0</td>\n",
       "      <td>0</td>\n",
       "      <td>0</td>\n",
       "      <td>0</td>\n",
       "      <td>1</td>\n",
       "    </tr>\n",
       "    <tr>\n",
       "      <th>3</th>\n",
       "      <td>2016</td>\n",
       "      <td>20423</td>\n",
       "      <td>30.0</td>\n",
       "      <td>57.6</td>\n",
       "      <td>2.0</td>\n",
       "      <td>0</td>\n",
       "      <td>0</td>\n",
       "      <td>0</td>\n",
       "      <td>0</td>\n",
       "      <td>0</td>\n",
       "      <td>0</td>\n",
       "      <td>0</td>\n",
       "      <td>1</td>\n",
       "      <td>0</td>\n",
       "      <td>0</td>\n",
       "      <td>0</td>\n",
       "      <td>0</td>\n",
       "      <td>0</td>\n",
       "      <td>0</td>\n",
       "      <td>0</td>\n",
       "    </tr>\n",
       "    <tr>\n",
       "      <th>4</th>\n",
       "      <td>2020</td>\n",
       "      <td>3569</td>\n",
       "      <td>145.0</td>\n",
       "      <td>47.1</td>\n",
       "      <td>1.0</td>\n",
       "      <td>0</td>\n",
       "      <td>0</td>\n",
       "      <td>0</td>\n",
       "      <td>0</td>\n",
       "      <td>1</td>\n",
       "      <td>0</td>\n",
       "      <td>0</td>\n",
       "      <td>0</td>\n",
       "      <td>0</td>\n",
       "      <td>0</td>\n",
       "      <td>1</td>\n",
       "      <td>0</td>\n",
       "      <td>0</td>\n",
       "      <td>0</td>\n",
       "      <td>1</td>\n",
       "    </tr>\n",
       "  </tbody>\n",
       "</table>\n",
       "</div>"
      ],
      "text/plain": [
       "   year  mileage    tax   mpg  engineSize  brand_bmw  brand_ford  \\\n",
       "0  2019     4223  145.0  39.8         2.2          0           0   \n",
       "1  2015    47870  125.0  60.1         2.0          0           0   \n",
       "2  2019     5151  145.0  29.1         2.9          0           0   \n",
       "3  2016    20423   30.0  57.6         2.0          0           0   \n",
       "4  2020     3569  145.0  47.1         1.0          0           0   \n",
       "\n",
       "   brand_hyundi  brand_merc  brand_skoda  brand_toyota  brand_vauxhall  \\\n",
       "0             1           0            0             0               0   \n",
       "1             0           0            0             0               1   \n",
       "2             0           0            0             0               0   \n",
       "3             0           0            0             0               0   \n",
       "4             0           0            1             0               0   \n",
       "\n",
       "   brand_vw  transmission_Manual  transmission_Other  transmission_Semi-Auto  \\\n",
       "0         0                    0                   0                       1   \n",
       "1         0                    1                   0                       0   \n",
       "2         0                    0                   0                       0   \n",
       "3         1                    0                   0                       0   \n",
       "4         0                    0                   0                       1   \n",
       "\n",
       "   fuelType_Electric  fuelType_Hybrid  fuelType_Other  fuelType_Petrol  \n",
       "0                  0                0               0                0  \n",
       "1                  0                0               0                0  \n",
       "2                  0                0               0                1  \n",
       "3                  0                0               0                0  \n",
       "4                  0                0               0                1  "
      ]
     },
     "execution_count": 31,
     "metadata": {},
     "output_type": "execute_result"
    }
   ],
   "source": [
    "df.head()"
   ]
  },
  {
   "cell_type": "code",
   "execution_count": 32,
   "id": "2d6f5252",
   "metadata": {},
   "outputs": [
    {
     "data": {
      "text/html": [
       "<div>\n",
       "<style scoped>\n",
       "    .dataframe tbody tr th:only-of-type {\n",
       "        vertical-align: middle;\n",
       "    }\n",
       "\n",
       "    .dataframe tbody tr th {\n",
       "        vertical-align: top;\n",
       "    }\n",
       "\n",
       "    .dataframe thead th {\n",
       "        text-align: right;\n",
       "    }\n",
       "</style>\n",
       "<table border=\"1\" class=\"dataframe\">\n",
       "  <thead>\n",
       "    <tr style=\"text-align: right;\">\n",
       "      <th></th>\n",
       "      <th>year</th>\n",
       "      <th>mileage</th>\n",
       "      <th>tax</th>\n",
       "      <th>mpg</th>\n",
       "      <th>engineSize</th>\n",
       "      <th>brand_bmw</th>\n",
       "      <th>brand_ford</th>\n",
       "      <th>brand_hyundi</th>\n",
       "      <th>brand_merc</th>\n",
       "      <th>brand_skoda</th>\n",
       "      <th>brand_toyota</th>\n",
       "      <th>brand_vauxhall</th>\n",
       "      <th>brand_vw</th>\n",
       "      <th>transmission_Manual</th>\n",
       "      <th>transmission_Other</th>\n",
       "      <th>transmission_Semi-Auto</th>\n",
       "      <th>fuelType_Electric</th>\n",
       "      <th>fuelType_Hybrid</th>\n",
       "      <th>fuelType_Other</th>\n",
       "      <th>fuelType_Petrol</th>\n",
       "    </tr>\n",
       "  </thead>\n",
       "  <tbody>\n",
       "    <tr>\n",
       "      <th>0</th>\n",
       "      <td>2017</td>\n",
       "      <td>12046</td>\n",
       "      <td>150.0</td>\n",
       "      <td>37.2</td>\n",
       "      <td>3.0</td>\n",
       "      <td>0</td>\n",
       "      <td>0</td>\n",
       "      <td>0</td>\n",
       "      <td>1</td>\n",
       "      <td>0</td>\n",
       "      <td>0</td>\n",
       "      <td>0</td>\n",
       "      <td>0</td>\n",
       "      <td>0</td>\n",
       "      <td>0</td>\n",
       "      <td>0</td>\n",
       "      <td>0</td>\n",
       "      <td>0</td>\n",
       "      <td>0</td>\n",
       "      <td>0</td>\n",
       "    </tr>\n",
       "    <tr>\n",
       "      <th>1</th>\n",
       "      <td>2017</td>\n",
       "      <td>37683</td>\n",
       "      <td>260.0</td>\n",
       "      <td>36.2</td>\n",
       "      <td>3.0</td>\n",
       "      <td>0</td>\n",
       "      <td>0</td>\n",
       "      <td>0</td>\n",
       "      <td>0</td>\n",
       "      <td>0</td>\n",
       "      <td>0</td>\n",
       "      <td>0</td>\n",
       "      <td>1</td>\n",
       "      <td>0</td>\n",
       "      <td>0</td>\n",
       "      <td>0</td>\n",
       "      <td>0</td>\n",
       "      <td>0</td>\n",
       "      <td>0</td>\n",
       "      <td>0</td>\n",
       "    </tr>\n",
       "    <tr>\n",
       "      <th>2</th>\n",
       "      <td>2019</td>\n",
       "      <td>10000</td>\n",
       "      <td>145.0</td>\n",
       "      <td>34.0</td>\n",
       "      <td>3.0</td>\n",
       "      <td>0</td>\n",
       "      <td>0</td>\n",
       "      <td>0</td>\n",
       "      <td>1</td>\n",
       "      <td>0</td>\n",
       "      <td>0</td>\n",
       "      <td>0</td>\n",
       "      <td>0</td>\n",
       "      <td>0</td>\n",
       "      <td>0</td>\n",
       "      <td>0</td>\n",
       "      <td>0</td>\n",
       "      <td>0</td>\n",
       "      <td>0</td>\n",
       "      <td>0</td>\n",
       "    </tr>\n",
       "    <tr>\n",
       "      <th>3</th>\n",
       "      <td>2019</td>\n",
       "      <td>3257</td>\n",
       "      <td>145.0</td>\n",
       "      <td>49.6</td>\n",
       "      <td>1.0</td>\n",
       "      <td>0</td>\n",
       "      <td>0</td>\n",
       "      <td>0</td>\n",
       "      <td>0</td>\n",
       "      <td>1</td>\n",
       "      <td>0</td>\n",
       "      <td>0</td>\n",
       "      <td>0</td>\n",
       "      <td>1</td>\n",
       "      <td>0</td>\n",
       "      <td>0</td>\n",
       "      <td>0</td>\n",
       "      <td>0</td>\n",
       "      <td>0</td>\n",
       "      <td>1</td>\n",
       "    </tr>\n",
       "    <tr>\n",
       "      <th>4</th>\n",
       "      <td>2015</td>\n",
       "      <td>20982</td>\n",
       "      <td>325.0</td>\n",
       "      <td>29.4</td>\n",
       "      <td>4.0</td>\n",
       "      <td>0</td>\n",
       "      <td>0</td>\n",
       "      <td>0</td>\n",
       "      <td>0</td>\n",
       "      <td>0</td>\n",
       "      <td>0</td>\n",
       "      <td>0</td>\n",
       "      <td>0</td>\n",
       "      <td>0</td>\n",
       "      <td>0</td>\n",
       "      <td>1</td>\n",
       "      <td>0</td>\n",
       "      <td>0</td>\n",
       "      <td>0</td>\n",
       "      <td>1</td>\n",
       "    </tr>\n",
       "  </tbody>\n",
       "</table>\n",
       "</div>"
      ],
      "text/plain": [
       "   year  mileage    tax   mpg  engineSize  brand_bmw  brand_ford  \\\n",
       "0  2017    12046  150.0  37.2         3.0          0           0   \n",
       "1  2017    37683  260.0  36.2         3.0          0           0   \n",
       "2  2019    10000  145.0  34.0         3.0          0           0   \n",
       "3  2019     3257  145.0  49.6         1.0          0           0   \n",
       "4  2015    20982  325.0  29.4         4.0          0           0   \n",
       "\n",
       "   brand_hyundi  brand_merc  brand_skoda  brand_toyota  brand_vauxhall  \\\n",
       "0             0           1            0             0               0   \n",
       "1             0           0            0             0               0   \n",
       "2             0           1            0             0               0   \n",
       "3             0           0            1             0               0   \n",
       "4             0           0            0             0               0   \n",
       "\n",
       "   brand_vw  transmission_Manual  transmission_Other  transmission_Semi-Auto  \\\n",
       "0         0                    0                   0                       0   \n",
       "1         1                    0                   0                       0   \n",
       "2         0                    0                   0                       0   \n",
       "3         0                    1                   0                       0   \n",
       "4         0                    0                   0                       1   \n",
       "\n",
       "   fuelType_Electric  fuelType_Hybrid  fuelType_Other  fuelType_Petrol  \n",
       "0                  0                0               0                0  \n",
       "1                  0                0               0                0  \n",
       "2                  0                0               0                0  \n",
       "3                  0                0               0                1  \n",
       "4                  0                0               0                1  "
      ]
     },
     "execution_count": 32,
     "metadata": {},
     "output_type": "execute_result"
    }
   ],
   "source": [
    "X_test.head()"
   ]
  },
  {
   "cell_type": "code",
   "execution_count": 33,
   "id": "4c54edd9",
   "metadata": {
    "scrolled": true
   },
   "outputs": [
    {
     "ename": "ModuleNotFoundError",
     "evalue": "No module named 'xgboost'",
     "output_type": "error",
     "traceback": [
      "\u001b[1;31m---------------------------------------------------------------------------\u001b[0m",
      "\u001b[1;31mModuleNotFoundError\u001b[0m                       Traceback (most recent call last)",
      "Input \u001b[1;32mIn [33]\u001b[0m, in \u001b[0;36m<cell line: 4>\u001b[1;34m()\u001b[0m\n\u001b[0;32m      2\u001b[0m \u001b[38;5;28;01mfrom\u001b[39;00m \u001b[38;5;21;01msklearn\u001b[39;00m\u001b[38;5;21;01m.\u001b[39;00m\u001b[38;5;21;01mensemble\u001b[39;00m \u001b[38;5;28;01mimport\u001b[39;00m RandomForestRegressor\n\u001b[0;32m      3\u001b[0m \u001b[38;5;28;01mfrom\u001b[39;00m \u001b[38;5;21;01msklearn\u001b[39;00m\u001b[38;5;21;01m.\u001b[39;00m\u001b[38;5;21;01mensemble\u001b[39;00m \u001b[38;5;28;01mimport\u001b[39;00m AdaBoostRegressor\n\u001b[1;32m----> 4\u001b[0m \u001b[38;5;28;01mfrom\u001b[39;00m \u001b[38;5;21;01mxgboost\u001b[39;00m \u001b[38;5;28;01mimport\u001b[39;00m XGBRegressor\n",
      "\u001b[1;31mModuleNotFoundError\u001b[0m: No module named 'xgboost'"
     ]
    }
   ],
   "source": [
    "from sklearn.linear_model import LinearRegression\n",
    "from sklearn.ensemble import RandomForestRegressor\n",
    "from sklearn.ensemble import AdaBoostRegressor\n",
    "from xgboost import XGBRegressor"
   ]
  },
  {
   "cell_type": "code",
   "execution_count": null,
   "id": "a3ceb813",
   "metadata": {},
   "outputs": [],
   "source": [
    "clf=RandomForestRegressor()\n",
    "clf.fit(df,y_train['price'])\n",
    "y_pred_rfc=clf.predict(X_test)"
   ]
  },
  {
   "cell_type": "code",
   "execution_count": null,
   "id": "ae6b95d7",
   "metadata": {},
   "outputs": [],
   "source": [
    "clf=AdaBoostRegressor()\n",
    "clf.fit(df,y_train['price'])\n",
    "y_pred_ada=clf.predict(X_test)"
   ]
  },
  {
   "cell_type": "code",
   "execution_count": null,
   "id": "b8065a3c",
   "metadata": {},
   "outputs": [],
   "source": [
    "clf=LinearRegression()\n",
    "clf.fit(df,y_train['price'])\n",
    "y_pred_lr=clf.predict(X_test)"
   ]
  },
  {
   "cell_type": "code",
   "execution_count": null,
   "id": "cc53e5c1",
   "metadata": {},
   "outputs": [],
   "source": [
    "clf=XGBRegressor()\n",
    "clf.fit(df,y_train['price'])\n",
    "y_pred_xgb=clf.predict(x_test)"
   ]
  },
  {
   "cell_type": "code",
   "execution_count": null,
   "id": "0fbee025",
   "metadata": {},
   "outputs": [],
   "source": [
    "from sklearn.metrics import mean_squared_error\n",
    "from sklearn.metrics import r2_score"
   ]
  },
  {
   "cell_type": "code",
   "execution_count": null,
   "id": "6c65edcd",
   "metadata": {},
   "outputs": [],
   "source": [
    "## Linear Regression\n",
    "\n",
    "print(mean_squared_error(y_test['price'],y_pred_lr))\n",
    "print(r2_score(y_test['price'],y_pred_lr))"
   ]
  },
  {
   "cell_type": "code",
   "execution_count": null,
   "id": "e6184739",
   "metadata": {},
   "outputs": [],
   "source": [
    "## Random Forest \n",
    "\n",
    "print(mean_squared_error(y_test['price'],y_pred_rfc))\n",
    "print(r2_score(y_test['price'],y_pred_rfc))"
   ]
  },
  {
   "cell_type": "code",
   "execution_count": null,
   "id": "65f7a77e",
   "metadata": {},
   "outputs": [],
   "source": [
    "## Ada Boost\n",
    "print(mean_squared_error(y_test['price'],y_pred_ada))\n",
    "print(r2_score(y_test['price'],y_pred_ada))"
   ]
  },
  {
   "cell_type": "code",
   "execution_count": null,
   "id": "16acfab3",
   "metadata": {},
   "outputs": [],
   "source": []
  }
 ],
 "metadata": {
  "kernelspec": {
   "display_name": "Python 3 (ipykernel)",
   "language": "python",
   "name": "python3"
  },
  "language_info": {
   "codemirror_mode": {
    "name": "ipython",
    "version": 3
   },
   "file_extension": ".py",
   "mimetype": "text/x-python",
   "name": "python",
   "nbconvert_exporter": "python",
   "pygments_lexer": "ipython3",
   "version": "3.9.12"
  },
  "papermill": {
   "default_parameters": {},
   "duration": 382.514929,
   "end_time": "2022-03-01T21:51:50.011839",
   "environment_variables": {},
   "exception": null,
   "input_path": "__notebook__.ipynb",
   "output_path": "__notebook__.ipynb",
   "parameters": {},
   "start_time": "2022-03-01T21:45:27.496910",
   "version": "2.3.3"
  }
 },
 "nbformat": 4,
 "nbformat_minor": 5
}
